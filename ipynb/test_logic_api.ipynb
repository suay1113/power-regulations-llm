{
 "cells": [
  {
   "cell_type": "code",
   "execution_count": 1,
   "metadata": {},
   "outputs": [],
   "source": [
    "import os, sys, json\n",
    "sys.path.append('..')\n",
    "import requests\n",
    "from glob import glob\n",
    "from pprint import pprint\n",
    "\n",
    "from utils.file_process import read_base64\n",
    "from utils.parse import parse_json\n",
    "\n",
    "# FastAPI server URL\n",
    "base_url = \"http://127.0.0.1:3535/\""
   ]
  },
  {
   "cell_type": "code",
   "execution_count": 2,
   "metadata": {},
   "outputs": [],
   "source": [
    "# OCR测试\n",
    "ocr_url = os.path.join(base_url, 'ocr-info')\n",
    "\n",
    "files_list = sorted( glob('../files/examples/ocr/*'))\n",
    "files_payload = []\n",
    "\n",
    "# 打开所有文件并添加到 payload 中\n",
    "# for file_path in files_list:\n",
    "    # file_obj = open(file_path, 'rb')\n",
    "    # files_payload.append(('files', (os.path.basename(file_path), file_obj, 'application/octet-stream')))\n",
    "    \n",
    "# 发送 POST 请求\n",
    "# JSON 数据\n",
    "json_data = {\n",
    "    \"paths\": json.dumps([tmp.replace('../','./') for tmp in files_list])\n",
    "}\n",
    "response = requests.post(ocr_url, data=json_data )   #files=files_payload)\n",
    "\n",
    "ocr_dict_res = response.json()['ticket_data']\n",
    "ocr_res = response.json()['raw_ocr_result']"
   ]
  },
  {
   "cell_type": "code",
   "execution_count": 3,
   "metadata": {},
   "outputs": [
    {
     "data": {
      "text/plain": [
       "{'status': 20,\n",
       " 'message': '[ocr-info] 完成',\n",
       " 'ticket_data': {'工作负责人': '赵×',\n",
       "  '工作班成员(不包括工作负责人)': ['王××', '赵x×', '田××', '李x×', '张×X'],\n",
       "  '工作的线路名称或设备双重名称(多回路应注明双重称号)': '110kV桃源I1133线（右线，深蓝色）',\n",
       "  '工作任务': '更换相悬垂线夹；更换三相绝缘子',\n",
       "  '工作许可时间': '2023-10-10T08:45:00',\n",
       "  '计划工作开始时间': '2023-10-10T08:30:00',\n",
       "  '工作终结时间': '2023-10-10T15:45:00',\n",
       "  '工作签发时间': '2023-10-09T08:20:00',\n",
       "  '工作负责人人员签名': '赵X',\n",
       "  '工作票延期': '无',\n",
       "  '现场所挂的接地线编号': '01号、02号',\n",
       "  '确认工作负责人布置的工作任务和安全措施工作班组人员签名': ['王××', '赵x×', '田××', '张x×'],\n",
       "  '工作终结报告': '电话报告',\n",
       "  '备注': '(1)指定专责监护人 李XX 负责监护王XX在7号塔更换A相悬垂线夹和9号更换三相绝缘子。负责监护赵XX在8号更换三相绝缘子。(2)其他事项',\n",
       "  '工作票延期时间': '无',\n",
       "  '工作负责人变动情况': '无'},\n",
       " 'raw_ocr_result': '电 力 线 路 第 一 种 工 作 票   已 执 行   单 位 ： （ 松 ） 输 电 运 检 中 心   编 号 ： · 0 5 0 2 0 0 3 ·   1 . 工 作 负 责 人 （ 监 护 人 ） ： · · 赵 × . .   班 组 . 检 修 二 班 .   2 . 工 作 班 人 员 （ 不 包 括 工 作 负 责 人 ） ：   王 × × 、 赵 x × 、 田 × × 、 李 x × 、 张 × X   共 . . . 5 . . 人   3 . 工 作 的 线 路 或 设 备 双 重 名 称 （ 多 回 路 应 注 明 双 重 称 号 ）   1 1 0 k v 桃 源 I 1 1 3 3 线 （ 右 线 ， 深 蓝 色 ） ·   4 . 工 作 任 务   工 作 地 点 或 地 段   工 作 内 容   （ 注 明 分 、 支 线 路 名 称 、 线 路 的 起 止 杆 号 ）   1 1 0 k v 桃 源 I 1 1 3 3 线 7 号 塔   更 换 相 悬 垂 线 夹   1 1 0 k v 桃 源 I 1 1 3 3 线 8 号 、 9 号 塔   更 换 三 相 绝 缘 子   5 . 计 划 工 作 时 间   自 2 0 2 3 年 · 1 0 月 · 1 0 日 0 8 时 3 0 分 至 · · 2 0 2 3 年 1 0 月 1 0 日 1 7 时 0 0 分   6 . 安 全 措 施 （ 必 要 时 可 附 页 绘 图 说 明 ）   6 . 1 应 改 为 检 修 状 态 的 线 路 间 隔 名 称 和 应 拉 开 的 断 路 器 （ 开 关 ） 、 隔 离 开 关 （ 刀 用 ） 、 熔 断 器 （ 包   括 分 支 线 、 用 户 线 路 和 配 合 停 电 线 路 ） ： ：   1 1 0 k V 桃 源 I I 1 1 3 5 线 转 入 检 修 状 态 。   6 . 2 保 留 或 邻 近 的 带 电 线 路 、 设 备 ：   1 1 0 k V 桃 源 I 1 1 3 3 线 同 塔 架 设 的 1 1 0 k V · 桃 源 Ⅱ 1 1 3 5 线 带 电 运 行 。   6 . 3 其 他 安 全 措 施 和 注 意 事 项 ： ： （ 1 ） 遇 有 五 级 以 上 的 大 风 时 ， 工 作 停 止 。 （ 2 ） 工 作 前 发 给 作 业   人 员 相 应 线 路 的 色 标 （ 深 蓝 色 ） 。 （ 3 ） 接 触 导 线 前 应 先 挂 好 个 人 保 安 线 。 （ 4 ） 脱 导 线 前 应 先 加 挂   防 止 导 线 脱 落 的 保 护 措 施 。 （ 5 ） 吊 起 或 放 落 工 具 、 材 料 等 物 体 时 ， 应 使 用 绝 缘 无 极 绳 索 。 （ 6 ） 作   业 过 程 中 人 员 不 得 进 入 带 电 侧 横 担 ， 人 体 与 带 电 设 备 保 持 1 . 2 以 上 安 全 距 离 。 （ 7 ） 起 吊 绳 索 与   1 1 0 k v 带 电 线 路 大 于 5 。 （ 8 ） · 在 上 下 杆 塔 和 转 位 时 不 得 失 去 保 护 ， 安 全 带 和 后 备 保 护 绳 应 分 别 挂   在 牢 固 构 件 上 。 · · 6 . 4 应 挂 的 接 地 线   挂 设 位 置   接 地 线 编 号   挂 设 时 间   拆 除 时 间   （ 线 路 名 称 及 杆 号 ）   1 1 0 k V 桃 源 1 1 1 3 3 线 6 号   2 0 2 3 年 1 0 月 1 0 日 0 9 时   2 0 2 3 年 1 0 月 1 0 日 1 5 时   0 1 号   塔 大 号 侧   0 0 分   2 2 分   1 1 0 k V 桃 源 I 1 1 3 3 线 1 0 号   2 0 2 3 年 1 0 月 1 0 日 1 5 时   0 2 号   2 0 2 3 年 1 0 月 1 0 日 9 : 2 3   塔 大 号 侧   3 3 分   工 作 票 签 发 人 签 名   王 X   2 0 2 3 年 1 0 月 0 9 日 0 8 时 2 0 分   工 作 负 责 人 签 名   赵 X   2 0 2 3 年 1 0 月 0 9 日 0 2 时 2 0 分 收 到 工 作 票   7 . 确 认 本 工 作 票 1 ~ 6 项 ， 许 可 工 作 开 始   许 可 方 式   许 可 人   工 作 负 责 人 签 名   许 可 工 作 的 时 间   2 0 2 3 年 1 0 月 1 0 日   电 话 下 达   张 X   赵 X   0 8 时 4 5 分   8 . 确 认 工 作 负 责 人 布 置 的 工 作 任 务 和 安 全 措 施   工 作 班 组 人 员 签 名 ：   王 × × 、 赵 x x 、 田 × × 、 张 x x   9 . 工 作 负 责 人 变 动 情 况   原 工 作 负 责 人   离 去 ， 变 更   为 工 作 负 责 人 。   工 作 票 签 发 人 签 名   年   月   日   时   分   1 0 . 工 作 人 员 变 动 情 况 （ 变 动 人 员 姓 名 、 日 期 及 时 间 ）   2 0 2 3 年 1 0 月 1 0 日 1 4 时 1 5 分 ， 工 作 班 成 员 田 X 有 事 离 去 。   工 作 负 责 人 签 名   1 1 . 工 作 票 延 期   有 效 期 延 长 到   年   月   日   时   分   工 作 负 责 人 签 名   年   月   日   时   分   工 作 许 可 人 签 名   年   月   日   时   分   1 2 . 工 作 票 终 结   1 2 . 1 现 场 所 挂 的 接 地 线 编 号   0 1 、 0 2 号   共 2 组 ， 已 全 部 拆 除 、 带 回 。 1 2 . 2 工 作 终 结 报 告   终 结 报 告 的 方 式   工 作 许 可 人   工 作 负 责 人 签 名   终 结 报 告 时 间   电 话 报 告   张 X   赵 X   2 0 2 3 年 1 0 月 1 0 日 1 5 时 4 5 分   1 3 、 备 注   （ 1 ） 指 定 专 责 监 护 人   李 X X   负 责 监 护 王 X X 在 7 号 塔 更 换 A 相 悬 垂 线 夹 和 9   号 更 换 三 相 绝 缘 子 。 负 责 监 护 赵 X X 在 8 号 更 换 三 相 绝 缘 子 。   （ 人 员 、 地 点 及 具 体 工 作 ）   （ 2 ） 其 他 事 项'}"
      ]
     },
     "execution_count": 3,
     "metadata": {},
     "output_type": "execute_result"
    }
   ],
   "source": [
    "response.json()\n"
   ]
  },
  {
   "cell_type": "code",
   "execution_count": 4,
   "metadata": {},
   "outputs": [
    {
     "name": "stdout",
     "output_type": "stream",
     "text": [
      "{'不符合要求的内容': ['工作任务栏中缺少具体且明确的每段或每基杆塔的工作内容。',\n",
      "              \"工作班组人员签名中缺少'李x×'的签名，且多了一个'张x×'的签名。\",\n",
      "              '工作许可时间2023-10-10T08:45:00早于计划工作开始时间2023-10-10T08:30:00，未在备注中说明原因。']}\n"
     ]
    }
   ],
   "source": [
    "# 逻辑测试\n",
    "logic_url = os.path.join(base_url, 'logic-check')\n",
    "payload = {'ticket_data':ocr_dict_res}\n",
    "\n",
    "# 发送 POST 请求（也可以用 GET 依据实际需要）\n",
    "response = requests.post(logic_url, json=payload)\n",
    "\n",
    "flag, logic_json = parse_json( response.json()['logic_errors'])\n",
    "pprint(logic_json)"
   ]
  },
  {
   "cell_type": "code",
   "execution_count": 5,
   "metadata": {},
   "outputs": [
    {
     "name": "stdout",
     "output_type": "stream",
     "text": [
      "{'人数': '工作班成员不包含工作负责人个数为5，请检查人数是否一致',\n",
      " '工作班成员签名': '工作班人员签名与工作班人数不一致，但也有可能由于字迹潦草导致无法识别导致，请进行检查',\n",
      " '工作负责人签名': '工作负责人人员签名与工作班负责人不一致，但也有可能由于字迹潦草导致无法识别导致，请进行检查'}\n"
     ]
    }
   ],
   "source": [
    "# 工人判定\n",
    "worker_url = os.path.join(base_url, 'worker-check')\n",
    "payload = {'ticket_data':ocr_dict_res}\n",
    "\n",
    "# 发送 POST 请求（也可以用 GET 依据实际需要）\n",
    "response = requests.post(worker_url, json=payload)\n",
    "flag, worker_json = parse_json(response.json()['worker_errors'])\n",
    "pprint(worker_json)"
   ]
  },
  {
   "cell_type": "code",
   "execution_count": 6,
   "metadata": {},
   "outputs": [
    {
     "data": {
      "text/plain": [
       "{'status': 20,\n",
       " 'message': '完成',\n",
       " 'worker_errors': {'人数': '工作班成员不包含工作负责人个数为5，请检查人数是否一致',\n",
       "  '工作负责人签名': '工作负责人人员签名与工作班负责人不一致，但也有可能由于字迹潦草导致无法识别导致，请进行检查',\n",
       "  '工作班成员签名': '工作班人员签名与工作班人数不一致，但也有可能由于字迹潦草导致无法识别导致，请进行检查'}}"
      ]
     },
     "execution_count": 6,
     "metadata": {},
     "output_type": "execute_result"
    }
   ],
   "source": [
    "response.json()\n"
   ]
  },
  {
   "cell_type": "code",
   "execution_count": null,
   "metadata": {},
   "outputs": [],
   "source": []
  }
 ],
 "metadata": {
  "kernelspec": {
   "display_name": "gradio",
   "language": "python",
   "name": "python3"
  },
  "language_info": {
   "codemirror_mode": {
    "name": "ipython",
    "version": 3
   },
   "file_extension": ".py",
   "mimetype": "text/x-python",
   "name": "python",
   "nbconvert_exporter": "python",
   "pygments_lexer": "ipython3",
   "version": "3.10.0"
  }
 },
 "nbformat": 4,
 "nbformat_minor": 2
}
